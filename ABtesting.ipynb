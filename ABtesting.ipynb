{
 "cells": [
  {
   "cell_type": "code",
   "execution_count": 1,
   "id": "64129f0b",
   "metadata": {},
   "outputs": [
    {
     "data": {
      "text/html": [
       "<div>\n",
       "<style scoped>\n",
       "    .dataframe tbody tr th:only-of-type {\n",
       "        vertical-align: middle;\n",
       "    }\n",
       "\n",
       "    .dataframe tbody tr th {\n",
       "        vertical-align: top;\n",
       "    }\n",
       "\n",
       "    .dataframe thead th {\n",
       "        text-align: right;\n",
       "    }\n",
       "</style>\n",
       "<table border=\"1\" class=\"dataframe\">\n",
       "  <thead>\n",
       "    <tr style=\"text-align: right;\">\n",
       "      <th></th>\n",
       "      <th>group</th>\n",
       "      <th>converted</th>\n",
       "    </tr>\n",
       "  </thead>\n",
       "  <tbody>\n",
       "    <tr>\n",
       "      <th>0</th>\n",
       "      <td>A</td>\n",
       "      <td>0</td>\n",
       "    </tr>\n",
       "    <tr>\n",
       "      <th>1</th>\n",
       "      <td>A</td>\n",
       "      <td>1</td>\n",
       "    </tr>\n",
       "    <tr>\n",
       "      <th>2</th>\n",
       "      <td>A</td>\n",
       "      <td>0</td>\n",
       "    </tr>\n",
       "    <tr>\n",
       "      <th>3</th>\n",
       "      <td>A</td>\n",
       "      <td>0</td>\n",
       "    </tr>\n",
       "    <tr>\n",
       "      <th>4</th>\n",
       "      <td>A</td>\n",
       "      <td>0</td>\n",
       "    </tr>\n",
       "  </tbody>\n",
       "</table>\n",
       "</div>"
      ],
      "text/plain": [
       "  group  converted\n",
       "0     A          0\n",
       "1     A          1\n",
       "2     A          0\n",
       "3     A          0\n",
       "4     A          0"
      ]
     },
     "execution_count": 1,
     "metadata": {},
     "output_type": "execute_result"
    }
   ],
   "source": [
    "import pandas as pd\n",
    "import numpy as np\n",
    "\n",
    "#Set seed for reproducibility\n",
    "np.random.seed(42)\n",
    "\n",
    "#Simulate conversions\n",
    "#Group A (Control): 10% conversion rate\n",
    "#Group B (Variant): 13% conversion rate\n",
    "group_A = np.random.binomial(n=1, p=0.10, size=1000)\n",
    "group_B = np.random.binomial(n=1, p=0.13, size=1000)\n",
    "\n",
    "#Created a DataFrame\n",
    "df = pd.DataFrame({\n",
    "    'group': ['A'] * 1000 + ['B'] * 1000,\n",
    "    'converted': np.concatenate([group_A, group_B])\n",
    "})\n",
    "\n",
    "#first few rows\n",
    "df.head()\n"
   ]
  },
  {
   "cell_type": "code",
   "execution_count": 2,
   "id": "bb1377cd",
   "metadata": {},
   "outputs": [
    {
     "name": "stdout",
     "output_type": "stream",
     "text": [
      "group\n",
      "A    0.100\n",
      "B    0.131\n",
      "Name: converted, dtype: float64\n"
     ]
    }
   ],
   "source": [
    "conversion_rates = df.groupby('group')['converted'].mean()\n",
    "print(conversion_rates)\n"
   ]
  },
  {
   "cell_type": "code",
   "execution_count": 3,
   "id": "e8ee9a5c",
   "metadata": {},
   "outputs": [
    {
     "name": "stdout",
     "output_type": "stream",
     "text": [
      "Z-statistic: -2.1687\n",
      "P-value: 0.0301\n"
     ]
    }
   ],
   "source": [
    "from statsmodels.stats.proportion import proportions_ztest\n",
    "\n",
    "# Successes and observations\n",
    "successes = [df[df.group == 'A'].converted.sum(), df[df.group == 'B'].converted.sum()]\n",
    "nobs = [df[df.group == 'A'].shape[0], df[df.group == 'B'].shape[0]]\n",
    "\n",
    "# Perform z-test\n",
    "z_stat, p_val = proportions_ztest(successes, nobs)\n",
    "\n",
    "print(f\"Z-statistic: {z_stat:.4f}\")\n",
    "print(f\"P-value: {p_val:.4f}\")\n"
   ]
  },
  {
   "cell_type": "code",
   "execution_count": 4,
   "id": "097fb458",
   "metadata": {},
   "outputs": [
    {
     "data": {
      "image/png": "[encoded data removed]",
      "text/plain": [
       "<Figure size 640x480 with 1 Axes>"
      ]
     },
     "metadata": {},
     "output_type": "display_data"
    }
   ],
   "source": [
    "import matplotlib.pyplot as plt\n",
    "\n",
    "fig, ax = plt.subplots()\n",
    "conversion_rates.plot(kind='bar', color=['skyblue', 'orange'], ax=ax)\n",
    "ax.set_title('Conversion Rates: Group A vs Group B')\n",
    "ax.set_ylabel('Conversion Rate')\n",
    "ax.set_xlabel('Group')\n",
    "plt.xticks(rotation=0)\n",
    "plt.tight_layout()\n",
    "plt.show()\n"
   ]
  },
  {
   "cell_type": "code",
   "execution_count": null,
   "id": "e9a8f50e",
   "metadata": {},
   "outputs": [],
   "source": []
  }
 ],
 "metadata": {
  "kernelspec": {
   "display_name": "Python 3 (ipykernel)",
   "language": "python",
   "name": "python3"
  },
  "language_info": {
   "codemirror_mode": {
    "name": "ipython",
    "version": 3
   },
   "file_extension": ".py",
   "mimetype": "text/x-python",
   "name": "python",
   "nbconvert_exporter": "python",
   "pygments_lexer": "ipython3",
   "version": "3.11.5"
  }
 },
 "nbformat": 4,
 "nbformat_minor": 5
}
